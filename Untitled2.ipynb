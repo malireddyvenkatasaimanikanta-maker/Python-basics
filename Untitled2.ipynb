{
  "nbformat": 4,
  "nbformat_minor": 0,
  "metadata": {
    "colab": {
      "provenance": [],
      "authorship_tag": "ABX9TyMGVCfnvKmqnsrFeg0jfBVs",
      "include_colab_link": true
    },
    "kernelspec": {
      "name": "python3",
      "display_name": "Python 3"
    },
    "language_info": {
      "name": "python"
    }
  },
  "cells": [
    {
      "cell_type": "markdown",
      "metadata": {
        "id": "view-in-github",
        "colab_type": "text"
      },
      "source": [
        "<a href=\"https://colab.research.google.com/github/malireddyvenkatasaimanikanta-maker/Python-basics/blob/main/Untitled2.ipynb\" target=\"_parent\"><img src=\"https://colab.research.google.com/assets/colab-badge.svg\" alt=\"Open In Colab\"/></a>"
      ]
    },
    {
      "cell_type": "code",
      "execution_count": 1,
      "metadata": {
        "colab": {
          "base_uri": "https://localhost:8080/"
        },
        "id": "iJde5-3-BSR6",
        "outputId": "05a20f32-5d25-463b-d025-16cfcdea9241"
      },
      "outputs": [
        {
          "output_type": "stream",
          "name": "stdout",
          "text": [
            " enter a character: vivek\n",
            "keviv\n"
          ]
        }
      ],
      "source": [
        "x= input(\" enter a character: \")\n",
        "y= x[::-1]\n",
        "print (y)"
      ]
    },
    {
      "cell_type": "code",
      "source": [],
      "metadata": {
        "id": "5n2rgOYiBXfd"
      },
      "execution_count": null,
      "outputs": []
    }
  ]
}